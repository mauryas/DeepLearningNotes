{
 "cells": [
  {
   "cell_type": "markdown",
   "metadata": {},
   "source": [
    "## 1. Libraries \n",
    "* numpy: working with multidimensional arrays\n",
    "* pandas: file operation\n",
    "* train_test_split: to split data into train and validation\n",
    "* pickle: to store the created features and then used for different models"
   ]
  },
  {
   "cell_type": "code",
   "execution_count": 1,
   "metadata": {
    "collapsed": true
   },
   "outputs": [],
   "source": [
    "import numpy as np # linear algebra\n",
    "import pandas as pd # data processing\n",
    "from sklearn.model_selection import train_test_split\n",
    "import pickle"
   ]
  },
  {
   "cell_type": "markdown",
   "metadata": {},
   "source": [
    "## 2. Import data\n",
    "Import the json data."
   ]
  },
  {
   "cell_type": "code",
   "execution_count": 2,
   "metadata": {
    "collapsed": false
   },
   "outputs": [],
   "source": [
    "def data_import():\n",
    "    train = pd.read_json(\"data/train.json\")\n",
    "    test = pd.read_json(\"data/test.json\")\n",
    "    train.inc_angle = train.inc_angle.replace('na', 0)\n",
    "    train.inc_angle = train.inc_angle.astype(float).fillna(0.0)\n",
    "    test.inc_angle = test.inc_angle.replace('na', 0)\n",
    "    test.inc_angle = test.inc_angle.astype(float).fillna(0.0)\n",
    "    return train, test\n",
    "\n",
    "train, test = data_import()"
   ]
  },
  {
   "cell_type": "markdown",
   "metadata": {},
   "source": [
    "## 3. Preprocess\n",
    "Merge bands and add another band as the mean of Band 1 and Band 2. Subtract the values by its mean and divide by standard deviation. Reshape the images into 75x75 arrays. One hot encoding for the class."
   ]
  },
  {
   "cell_type": "code",
   "execution_count": 5,
   "metadata": {
    "collapsed": false
   },
   "outputs": [],
   "source": [
    "def data_reshape(df):\n",
    "    X_band1 = np.array([np.array(band).astype(np.float32).reshape(75, 75) for band in df[\"band_1\"]])\n",
    "    X_band2 = np.array([np.array(band).astype(np.float32).reshape(75, 75) for band in df[\"band_2\"]])\n",
    "    X_mean = np.array((X_band1+X_band2)/2)\n",
    "    X_mean = (X_mean - X_mean.mean()) / X_mean.std()\n",
    "    return X_mean[:, :, :, np.newaxis]\n",
    "\n",
    "def one_hot(df):\n",
    "    classi = [[]]\n",
    "    for i in range(df.shape[0]):\n",
    "        if(df[\"is_iceberg\"][i]==0):\n",
    "            classi.append([0,1])\n",
    "        else:\n",
    "            classi.append([1,0])\n",
    "    classi.remove([])    \n",
    "    return np.array(classi)\n",
    "\n",
    "X_train = data_reshape(train)\n",
    "X_test = data_reshape(test)\n",
    "\n",
    "y_train = one_hot(train)"
   ]
  },
  {
   "cell_type": "markdown",
   "metadata": {},
   "source": [
    "## 4. Train and Validation Sets"
   ]
  },
  {
   "cell_type": "code",
   "execution_count": 6,
   "metadata": {
    "collapsed": false
   },
   "outputs": [
    {
     "name": "stderr",
     "output_type": "stream",
     "text": [
      "/home/cs231n/myVE35/lib/python3.5/site-packages/sklearn/model_selection/_split.py:2026: FutureWarning: From version 0.21, test_size will always complement train_size unless both are specified.\n",
      "  FutureWarning)\n"
     ]
    }
   ],
   "source": [
    "X_train, X_valid, y_train, y_valid = train_test_split(X_train,\n",
    "                                     y_train, random_state=666, train_size=0.75)\n",
    "\n",
    "X_train, X_test, y_train, y_test = train_test_split(X_train,\n",
    "                                     y_train, random_state=666, train_size=0.75)"
   ]
  },
  {
   "cell_type": "markdown",
   "metadata": {},
   "source": [
    "## 5. Save the features"
   ]
  },
  {
   "cell_type": "code",
   "execution_count": 7,
   "metadata": {
    "collapsed": true
   },
   "outputs": [],
   "source": [
    "trainDict = {\"xtrain\": X_train, \n",
    "             \"ytrain\": y_train}\n",
    "validDict = {\"xvalid\": X_valid, \n",
    "             \"yvalid\": y_valid}\n",
    "testDict = {\"xtest\": X_test}\n",
    "pickle_train = open(\"train.pickle\",\"wb\")\n",
    "pickle_valid = open(\"valid.pickle\",\"wb\")\n",
    "pickle_test = open(\"test.pickle\",\"wb\")\n",
    "\n",
    "pickle.dump(trainDict,pickle_train)\n",
    "pickle.dump(validDict,pickle_valid)\n",
    "pickle.dump(testDict,pickle_test)"
   ]
  }
 ],
 "metadata": {
  "kernelspec": {
   "display_name": "Python 3",
   "language": "python",
   "name": "python3"
  },
  "language_info": {
   "codemirror_mode": {
    "name": "ipython",
    "version": 3
   },
   "file_extension": ".py",
   "mimetype": "text/x-python",
   "name": "python",
   "nbconvert_exporter": "python",
   "pygments_lexer": "ipython3",
   "version": "3.5.2"
  }
 },
 "nbformat": 4,
 "nbformat_minor": 0
}
